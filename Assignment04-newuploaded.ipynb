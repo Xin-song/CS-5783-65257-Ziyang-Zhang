{
 "cells": [
  {
   "cell_type": "markdown",
   "id": "8f601169",
   "metadata": {},
   "source": [
    "# Question 1\n"
   ]
  },
  {
   "cell_type": "code",
   "execution_count": 35,
   "id": "5bb85f2d",
   "metadata": {},
   "outputs": [],
   "source": [
    "import pandas as pd\n",
    "import numpy as np\n",
    "import scipy.stats as stats\n",
    "from matplotlib import pyplot as plt\n",
    "tm_train = pd.read_excel('Asssignment4_Data.xlsx',header = 0)\n",
    "tm_test = pd.read_excel('Asssignment4_Data.xlsx',header = 0, sheet_name='Test')"
   ]
  },
  {
   "cell_type": "code",
   "execution_count": 36,
   "id": "68425e93",
   "metadata": {},
   "outputs": [],
   "source": [
    "data_train = tm_train.to_numpy()\n",
    "data_test = tm_test.to_numpy()\n",
    "# print(data_train)\n",
    "# print(data_test)"
   ]
  },
  {
   "cell_type": "markdown",
   "id": "ef4add9a",
   "metadata": {},
   "source": [
    "## Question 1.1\n",
    "\n",
    "Conditional probability distribution"
   ]
  },
  {
   "cell_type": "code",
   "execution_count": 37,
   "id": "4002bd7f",
   "metadata": {},
   "outputs": [
    {
     "name": "stdout",
     "output_type": "stream",
     "text": [
      "0.35 0.35 0.3\n"
     ]
    }
   ],
   "source": [
    "# Prior probability\n",
    "numApt=tm_train[tm_train['Construction type']=='Apartment'].shape[0]\n",
    "numHouse=tm_train[tm_train['Construction type']=='House'].shape[0]\n",
    "numCon=tm_train[tm_train['Construction type']=='Condo'].shape[0]\n",
    "\n",
    "aptPrior = numApt/(numApt+numHouse+numCon)\n",
    "housePrior = numHouse/(numApt+numHouse+numCon)\n",
    "conPrior = numCon/(numApt+numHouse+numCon)\n",
    "\n",
    "print(aptPrior, housePrior, conPrior)"
   ]
  },
  {
   "attachments": {},
   "cell_type": "markdown",
   "id": "e7a89c02",
   "metadata": {},
   "source": [
    "### For categorical features\n",
    "\n",
    "We can use $\\hat P(X_j = a_{jk}|C=c_i)$ to calculate the conditional probabilities. Here, Bathrooms, Garages, Rooms, Bedrooms are categoricial features.\n",
    "\n",
    "For example, for the bathrooms, the conditional probabilities are calculated as follows:\n",
    "\\begin{align}\n",
    "\\hat P(X_j=1|C=Apt) = \\frac{\\hbox{number of Apt with 1 bathroom}}{\\hbox{number of Apt}}=\\frac{5}{7}\\\\\n",
    "\\hat P(X_j=1.5|C=Apt) = \\frac{\\hbox{number of Apt with 1.5 bathroom}}{\\hbox{number of Apt}}=\\frac{1}{7}\\\\\n",
    "\\hat P(X_j=2.5|C=Apt) = \\frac{\\hbox{number of Apt with 2.5 bathroom}}{\\hbox{number of Apt}}=\\frac{1}{7}\\\\\n",
    "\\hat P(X_j=1|C=House) = \\frac{\\hbox{number of House with 1 bathroom}}{\\hbox{number of House}}=\\frac{6}{7}\\\\\n",
    "\\hat P(X_j=1.5|C=House) = \\frac{\\hbox{number of House with 1.5 bathroom}}{\\hbox{number of House}}=\\frac{1}{7}\\\\\n",
    "\\hat P(X_j=2.5|C=House) = \\frac{\\hbox{number of House with 2.5 bathroom}}{\\hbox{number of House}}=0\\\\\n",
    "\\hat P(X_j=1|C=Condo) = \\frac{\\hbox{number of Condo with 1 bathroom}}{\\hbox{number of Condo}}=\\frac{4}{6}\\\\\n",
    "\\hat P(X_j=1.5|C=Condo) = \\frac{\\hbox{number of Condo with 1.5 bathroom}}{\\hbox{number of Condo}}=\\frac{1}{6}\\\\\n",
    "\\hat P(X_j=2.5|C=Condo) = \\frac{\\hbox{number of Condo with 2.5 bathroom}}{\\hbox{number of Condo}}=\\frac{1}{6}\\\\\n",
    "\\end{align}\n",
    "\n",
    "### For continuous features\n",
    "\n",
    "We need to use \n",
    "$$\\hat P(X_j|C=c_i)=\\frac{1}{\\sqrt{2 \\pi}σ_{ji}}\\exp(-\\frac{(X_j-μ_{ji})^2}{2σ_{ij}^2})$$\n",
    "for the conditional probabilities.\n",
    "\n",
    "The Local Price, Land Area, Living area, Age of home are continuous features.\n",
    "\n",
    "Here, we take the local price as example. The mean of local price in Apartments is 7.33 and the variance is 11.21. The mean of local price in Houses is 5.76 and the variance is 0.28. The mean of local price in Condo is 7.42 and the variance is 17.72.  \n",
    "\n",
    "In the following table, the conditional probabilities for each feature are shown:\n",
    "\n",
    "\n",
    "\n",
    "If the picture can not loaded properly, please view the attached image file.\n",
    "![title](Conditional_Probabilities.png)"
   ]
  },
  {
   "cell_type": "markdown",
   "id": "2195bd64",
   "metadata": {},
   "source": [
    "## Question 1.2\n"
   ]
  },
  {
   "cell_type": "code",
   "execution_count": 38,
   "id": "b599f97e",
   "metadata": {},
   "outputs": [],
   "source": [
    "# data pre-process\n",
    "tm_apt = tm_train[df_train['Construction type']=='Apartment']\n",
    "tm_house = tm_train[df_train['Construction type']=='House']\n",
    "tm_condo = tm_train[df_train['Construction type']=='Condo']\n",
    "\n",
    "apt_train = tm_apt.to_numpy()[:,1:9]\n",
    "house_train = tm_house.to_numpy()[:,1:9]\n",
    "condo_train = tm_condo.to_numpy()[:,1:9]"
   ]
  },
  {
   "cell_type": "code",
   "execution_count": 39,
   "id": "aa14de4c",
   "metadata": {},
   "outputs": [],
   "source": [
    "# Hard-code the predict function\n",
    "def prediction(x, m=1):\n",
    "  Prob_conditional = np.zeros((3,8))\n",
    "  #Apt\n",
    "  # continuous feature\n",
    "  for j in range(8):\n",
    "    if j == 0 or j == 2 or j == 3 or j == 7:\n",
    "      mean = np.mean(apt_train[:,j])\n",
    "      std = np.std(apt_train[:,j])\n",
    "      # print(mean,std)\n",
    "      Prob_conditional[0][j] = stats.norm(mean, std).pdf(x[j])\n",
    "  \n",
    "  # categorical feature\n",
    "  #feature 2\n",
    "  t = 3\n",
    "  p = 1/t\n",
    "  n = 7\n",
    "  if x[1] == 1:\n",
    "    nc = 5      \n",
    "  elif x[1] == 1.5 or x[1] ==2.5:\n",
    "    nc = 1\n",
    "  else:\n",
    "    nc = 0\n",
    "  p = (nc+m*p)/(n+m)\n",
    "  Prob_conditional[0][1] =  p\n",
    "  #feature 5\n",
    "  t = 4\n",
    "  p = 1/t\n",
    "  if x[4] == 0 or x[4] == 1.5:\n",
    "    nc = 1\n",
    "  elif x[4] == 1:\n",
    "    nc = 3\n",
    "  elif x[4] == 2:\n",
    "    nc = 2\n",
    "  else:\n",
    "    nc = 0\n",
    "  p = (nc+m*p)/(n+m)  \n",
    "  Prob_conditional[0][4] =  p\n",
    "  #feature 6\n",
    "  t = 4\n",
    "  p = 1/t\n",
    "  if x[5] == 5 or x[5] == 8 or x[5] == 9:\n",
    "    nc = 1\n",
    "  elif x[5] == 6 or x[5] == 7:\n",
    "    nc = 2\n",
    "  else:\n",
    "    nc = 0\n",
    "  p = (nc+m*p)/(n+m)  \n",
    "  Prob_conditional[0][5] =  p\n",
    "  #feature 7\n",
    "  t = 4\n",
    "  p=1/t\n",
    "  if x[6] == 2 or x[6] == 5:\n",
    "    nc = 1\n",
    "  elif x[6] == 3:\n",
    "    nc = 3\n",
    "  elif x[6] == 4:\n",
    "    nc = 2\n",
    "  else:\n",
    "    nc = 0\n",
    "  p = (nc+m*p)/(n+m)  \n",
    "  Prob_conditional[0][6] =  p\n",
    "\n",
    "  # p_apt = p1_apt*p2_apt*p3_apt*p4_apt*p5_apt*p6_apt*p7_apt*p8_apt*apt_prior\n",
    "\n",
    "  # House\n",
    "  # continuous feature\n",
    "  for j in range(0,8):\n",
    "    if j == 0 or j == 2 or j == 3 or j == 7:\n",
    "      mean = np.mean(house_train[:,j])\n",
    "      std = np.std(house_train[:,j])\n",
    "      # print(mean,std)\n",
    "      Prob_conditional[1][j] = stats.norm(mean, std).pdf(x[j])\n",
    "  \n",
    "  # categorical feature\n",
    "  #feature 2\n",
    "  t = 2\n",
    "  p=1/t\n",
    "  n = 7\n",
    "  if x[1] == 1:\n",
    "    nc = 6      \n",
    "  elif x[1] == 1.5:\n",
    "    nc = 1\n",
    "  else:\n",
    "    nc = 0\n",
    "  p = (nc+m*p)/(n+m)\n",
    "  Prob_conditional[1][1] =  p\n",
    "  #feature 5\n",
    "  t = 4\n",
    "  p=1/t\n",
    "  if x[4] == 0 or x[4] == 1 or x[4] == 2:\n",
    "    nc = 2\n",
    "  elif x[4] == 1.5:\n",
    "    nc = 1\n",
    "  else:\n",
    "    nc = 0\n",
    "  p = (nc+m*p)/(n+m)  \n",
    "  Prob_conditional[1][4] =  p\n",
    "  #feature 6\n",
    "  t = 3\n",
    "  p=1/t\n",
    "  if x[5] == 5:\n",
    "    nc = 1\n",
    "  elif x[5] == 6:\n",
    "    nc =4\n",
    "  elif x[5] == 7:\n",
    "    nc = 2\n",
    "  else:\n",
    "    nc = 0\n",
    "  p = (nc+m*p)/(n+m)  \n",
    "  Prob_conditional[1][5] =  p\n",
    "  #feature 7\n",
    "  t = 3\n",
    "  p=1/t\n",
    "  if x[6] == 2 or x[6] == 4:\n",
    "    nc = 1\n",
    "  elif x[6] == 3:\n",
    "    nc = 5\n",
    "  else:\n",
    "    nc =0\n",
    "  p = (nc+m*p)/(n+m)  \n",
    "  Prob_conditional[1][6] =  p\n",
    "\n",
    "\n",
    "  # condo\n",
    "  # continuous feature\n",
    "  for j in range(0,8):\n",
    "    if j == 0 or j == 2 or j == 3 or j == 7:\n",
    "      mean = np.mean(condo_train[:,j])\n",
    "      std = np.std(condo_train[:,j])\n",
    "      # print(mean,std)\n",
    "      Prob_conditional[2][j] = stats.norm(mean, std).pdf(x[j])\n",
    "  \n",
    "  # categorical feature\n",
    "  #feature 2\n",
    "  t = 3\n",
    "  p=1/t\n",
    "  n = 6\n",
    "  if x[1] == 1:\n",
    "    nc = 4\n",
    "  elif x[1] == 2.5 or x[1] == 1.5:\n",
    "    nc = 1 \n",
    "  else:\n",
    "    nc = 0\n",
    "  p = (nc+m*p)/(n+m)\n",
    "  Prob_conditional[2][1] =  p\n",
    "  #feature 5\n",
    "  t = 2\n",
    "  p=1/t\n",
    "  if x[4] == 2:\n",
    "    nc = 2\n",
    "  elif x[4] == 1:\n",
    "    nc = 4\n",
    "  else:\n",
    "    nc = 0\n",
    "  p = (nc+m*p)/(n+m)  \n",
    "  Prob_conditional[2][4] =  p\n",
    "  #feature 6\n",
    "  t = 3\n",
    "  p=1/t\n",
    "  if x[5] == 6:\n",
    "    nc = 4\n",
    "  elif x[5] == 7 or x[5] == 10: \n",
    "    nc = 1\n",
    "  else:\n",
    "    nc = 0\n",
    "  p = (nc+m*p)/(n+m)  \n",
    "  Prob_conditional[2][5] =  p\n",
    "  #feature 7\n",
    "  t = 2\n",
    "  p=1/t\n",
    "  if x[6] == 3:\n",
    "    nc = 5\n",
    "  elif x[6] == 5:\n",
    "    nc = 1\n",
    "  else:\n",
    "    nc = 0\n",
    "  p = (nc+m*p)/(n+m)  \n",
    "  Prob_conditional[2][6] =  p\n",
    "  return Prob_conditional"
   ]
  },
  {
   "cell_type": "code",
   "execution_count": 40,
   "id": "d562746b",
   "metadata": {},
   "outputs": [],
   "source": [
    "# This function gives the prediction based on the maximum of probabilities.\n",
    "def final_class(x):\n",
    "  index = np.argmax(x)\n",
    "  # print(index)\n",
    "  if index == 0:\n",
    "    print('It is apartment')\n",
    "  elif index == 1:\n",
    "    print('It is house')\n",
    "  else:\n",
    "    print('It is condo')\n",
    "  return"
   ]
  },
  {
   "cell_type": "code",
   "execution_count": 41,
   "id": "a913455c",
   "metadata": {},
   "outputs": [],
   "source": [
    "data_test = tm_test.to_numpy()[:,1:9]\n",
    "prior = np.array([aptPrior, housePrior, conPrior])\n",
    "# prediction(data_test[0])"
   ]
  },
  {
   "cell_type": "code",
   "execution_count": 42,
   "id": "ad1ba76a",
   "metadata": {},
   "outputs": [
    {
     "name": "stdout",
     "output_type": "stream",
     "text": [
      "This is the 1st test example:\n",
      "[6.33212438e-07 1.61340058e-05 3.67427032e-06]\n",
      "It is house\n",
      "This is the 2nd test example:\n",
      "[8.48734410e-08 2.47872907e-13 5.14897186e-09]\n",
      "It is apartment\n",
      "This is the 3rd test example:\n",
      "[5.36321186e-08 1.20356144e-10 2.60286631e-08]\n",
      "It is apartment\n",
      "This is the 4th test example:\n",
      "[6.77977080e-08 6.62229936e-17 1.97791264e-09]\n",
      "It is apartment\n",
      "This is the 5th test example:\n",
      "[1.37038331e-07 1.29422388e-35 8.24660044e-07]\n",
      "It is condo\n"
     ]
    }
   ],
   "source": [
    "# test data 1\n",
    "prob = np.prod(prediction(data_test[0]), axis=1)*prior\n",
    "print(\"This is the 1st test example:\")\n",
    "print(prob)\n",
    "final_class(prob)\n",
    "\n",
    "# test data 2\n",
    "prob = np.prod(prediction(data_test[1]), axis=1)*prior\n",
    "print(\"This is the 2nd test example:\")\n",
    "print(prob)\n",
    "final_class(prob)\n",
    "\n",
    "# test data 3\n",
    "prob = np.prod(prediction(data_test[2]), axis=1)*prior\n",
    "print(\"This is the 3rd test example:\")\n",
    "print(prob)\n",
    "final_class(prob)\n",
    "\n",
    "# test data 4\n",
    "prob = np.prod(prediction(data_test[3]), axis=1)*prior\n",
    "print(\"This is the 4th test example:\")\n",
    "print(prob)\n",
    "final_class(prob)\n",
    "\n",
    "# test data 5\n",
    "prob = np.prod(prediction(data_test[4]), axis=1)*prior\n",
    "print(\"This is the 5th test example:\")\n",
    "print(prob)\n",
    "final_class(prob)"
   ]
  },
  {
   "cell_type": "markdown",
   "id": "4a54c515",
   "metadata": {},
   "source": [
    "# Question 2"
   ]
  },
  {
   "cell_type": "code",
   "execution_count": 50,
   "id": "f8364a89",
   "metadata": {},
   "outputs": [
    {
     "name": "stdout",
     "output_type": "stream",
     "text": [
      "The accuracy on the training set is:\n",
      "1.0\n",
      "The accuracy on the testing set is:\n",
      "0.4\n"
     ]
    }
   ],
   "source": [
    "from sklearn.tree import DecisionTreeClassifier\n",
    "from sklearn.metrics import accuracy_score\n",
    "\n",
    "X_train = data_train[:,1:9]\n",
    "Y_train = data_train[:,9]\n",
    "\n",
    "X_test = tm_test.to_numpy()[:,1:9]\n",
    "Y_test = tm_test.to_numpy()[:,9]\n",
    "\n",
    "clf = DecisionTreeClassifier()\n",
    "clf = clf.fit(X_train, Y_train)\n",
    "\n",
    "# Accuracy on training set\n",
    "print(\"The accuracy on the training set is:\")\n",
    "trainAccuracy = clf.score(X_train,Y_train)\n",
    "print(trainAccuracy)\n",
    "\n",
    "# Accuracy on testing set\n",
    "print(\"The accuracy on the testing set is:\")\n",
    "testAccuracy = clf.score(X_test,Y_test)\n",
    "print(testAccuracy)\n",
    "\n"
   ]
  },
  {
   "cell_type": "markdown",
   "id": "851d1d27",
   "metadata": {},
   "source": [
    "### Question 2.1.a and Qustion 2.1.b\n",
    "\n",
    "The accuracy on the training set is 1.0, the accuracy on the testing set is 0.4."
   ]
  },
  {
   "cell_type": "code",
   "execution_count": 57,
   "id": "a46ff465",
   "metadata": {},
   "outputs": [
    {
     "name": "stdout",
     "output_type": "stream",
     "text": [
      "5\n",
      "When the depth is 1, the accuracy on the training set is 0.55, the accuracy on the testing set is 0.40\n",
      "When the depth is 2, the accuracy on the training set is 0.75, the accuracy on the testing set is 0.80\n",
      "When the depth is 3, the accuracy on the training set is 0.90, the accuracy on the testing set is 0.40\n",
      "When the depth is 4, the accuracy on the training set is 0.95, the accuracy on the testing set is 0.40\n"
     ]
    }
   ],
   "source": [
    "# get the depth of current decision tree\n",
    "print(clf.get_depth())\n",
    "# check on the accuracy for other depths\n",
    "for i in range(1,5):\n",
    "    clf_i = DecisionTreeClassifier(max_depth=i)\n",
    "    clf_i = clf_i.fit(X_train,Y_train)\n",
    "    trainAccuracy_i = clf_i.score(X_train,Y_train)\n",
    "    testAccuracy_i = clf_i.score(X_test,Y_test)\n",
    "    print(\"When the depth is {:.0f}, the accuracy on the training set is {:.2f}, the accuracy on the testing set is {:.2f}\".format(i,trainAccuracy_i,testAccuracy_i))"
   ]
  },
  {
   "cell_type": "markdown",
   "id": "3b183f1b",
   "metadata": {},
   "source": [
    "### Question 2.2\n",
    "\n",
    "From the results above, we can see there is an improvement for training accuracy with deeper decision tree. But when the depth is 2, the test accuracy is the best. So, the best depth should be 2."
   ]
  },
  {
   "cell_type": "markdown",
   "id": "2de20ed8",
   "metadata": {},
   "source": [
    "### Question 2.3\n",
    "\n",
    "Deeper decision tree can cause overfitting."
   ]
  },
  {
   "cell_type": "code",
   "execution_count": 60,
   "id": "89364132",
   "metadata": {},
   "outputs": [
    {
     "data": {
      "text/plain": [
       "[Text(0.5, 0.8333333333333334, 'X[7] <= 36.0\\ngini = 0.665\\nsamples = 20\\nvalue = [7, 6, 7]'),\n",
       " Text(0.25, 0.5, 'X[0] <= 8.411\\ngini = 0.56\\nsamples = 10\\nvalue = [2, 2, 6]'),\n",
       " Text(0.125, 0.16666666666666666, 'gini = 0.375\\nsamples = 8\\nvalue = [0, 2, 6]'),\n",
       " Text(0.375, 0.16666666666666666, 'gini = 0.0\\nsamples = 2\\nvalue = [2, 0, 0]'),\n",
       " Text(0.75, 0.5, 'X[0] <= 4.55\\ngini = 0.58\\nsamples = 10\\nvalue = [5, 4, 1]'),\n",
       " Text(0.625, 0.16666666666666666, 'gini = 0.0\\nsamples = 2\\nvalue = [0, 2, 0]'),\n",
       " Text(0.875, 0.16666666666666666, 'gini = 0.531\\nsamples = 8\\nvalue = [5, 2, 1]')]"
      ]
     },
     "execution_count": 60,
     "metadata": {},
     "output_type": "execute_result"
    },
    {
     "data": {
      "image/png": "[encoded data removed]",
      "text/plain": [
       "<Figure size 432x288 with 1 Axes>"
      ]
     },
     "metadata": {
      "needs_background": "light"
     },
     "output_type": "display_data"
    }
   ],
   "source": [
    "from sklearn.tree import plot_tree\n",
    "clf_2 = DecisionTreeClassifier(max_depth=2)\n",
    "clf_2 = clf_2.fit(X_train,Y_train)\n",
    "plot_tree(clf_2)"
   ]
  },
  {
   "cell_type": "markdown",
   "id": "9757b2e2",
   "metadata": {},
   "source": [
    "### Question 2.4\n",
    "\n",
    "For the given example, first check the age of home. Age of home is 23, less than 36, so go left. Then, check on the local price. The local price is 9.0384, larger than 8.411, so go right. This cell correspond to Apartment. So, the prediction is 'Apartment'."
   ]
  },
  {
   "cell_type": "code",
   "execution_count": 62,
   "id": "46a01e5f",
   "metadata": {},
   "outputs": [
    {
     "name": "stdout",
     "output_type": "stream",
     "text": [
      "The prediction is ['Apartment']\n"
     ]
    }
   ],
   "source": [
    "a=np.array([9.0384,1,7.8,1.5,1.5,7,3,23])\n",
    "a = a.reshape(1,a.shape[0])\n",
    "print(\"The prediction is {}\".format(clf_2.predict(a)))"
   ]
  },
  {
   "cell_type": "markdown",
   "id": "45495677",
   "metadata": {},
   "source": [
    "# Question 3\n"
   ]
  },
  {
   "cell_type": "markdown",
   "id": "4fbef827",
   "metadata": {},
   "source": [
    "## hard-coded K-NN classifier"
   ]
  },
  {
   "cell_type": "code",
   "execution_count": 65,
   "id": "66b7fafa",
   "metadata": {},
   "outputs": [
    {
     "data": {
      "text/plain": [
       "['Apartment', 'Apartment', 'Apartment', 'House', 'House']"
      ]
     },
     "execution_count": 65,
     "metadata": {},
     "output_type": "execute_result"
    }
   ],
   "source": [
    "def KNN(X_train,Y_train,x_test,k):\n",
    "  #calculate distance of all training sample\n",
    "  Distance = []\n",
    "  for i in range(X_train.shape[0]):\n",
    "    dist = np.linalg.norm(X_train[i]-x_test)\n",
    "    Distance.append(dist)\n",
    "  Distance = np.array(Distance)\n",
    "\n",
    "  #return candidate training sample\n",
    "  index = np.argpartition(Distance,k)[:k]\n",
    "  candidate = Y_train[index]\n",
    "\n",
    "  #calculate highest value\n",
    "  unique,pos = np.unique(candidate,return_inverse=True) #Finds all unique elements and their positions\n",
    "  counts = np.bincount(pos)  #Count the number of each unique element\n",
    "  maxpos = counts.argmax() #Finds the positions of the maximum count\n",
    "  result = unique[maxpos]\n",
    "  return result\n",
    "\n",
    "def accuracy(Y_test, Y_pred):\n",
    "  count = 0\n",
    "  for i in range(Y_test.shape[0]):\n",
    "    if Y_test[i] == Y_pred[i]:\n",
    "      count+=1\n",
    "  accuracy = count/Y_test.shape[0]\n",
    "  return accuracy\n",
    "\n",
    "n_neighbour = 3\n",
    "Y_pred = []\n",
    "for j in range(X_test.shape[0]):\n",
    " result = KNN(X_train,Y_train,X_test[j],n_neighbour)\n",
    " Y_pred.append(result)\n",
    "Y_pred"
   ]
  },
  {
   "cell_type": "markdown",
   "id": "0cc670e6",
   "metadata": {},
   "source": [
    "## The K-NN classifier from sklearn"
   ]
  },
  {
   "cell_type": "code",
   "execution_count": 67,
   "id": "f1887a03",
   "metadata": {},
   "outputs": [
    {
     "data": {
      "text/plain": [
       "array(['Apartment', 'Apartment', 'Apartment', 'House', 'House'],\n",
       "      dtype=object)"
      ]
     },
     "execution_count": 67,
     "metadata": {},
     "output_type": "execute_result"
    }
   ],
   "source": [
    "from sklearn.neighbors import KNeighborsClassifier\n",
    "neigh = KNeighborsClassifier(n_neighbors=3)\n",
    "neigh.fit(X_train, Y_train)\n",
    "neigh.predict(X_test)"
   ]
  },
  {
   "cell_type": "code",
   "execution_count": 79,
   "id": "062cdef1",
   "metadata": {},
   "outputs": [
    {
     "name": "stdout",
     "output_type": "stream",
     "text": [
      "['Apartment', 'Apartment', 'Apartment', 'Condo', 'House']\n",
      "['Apartment', 'Apartment', 'Apartment', 'Condo', 'Condo']\n",
      "['Apartment', 'Apartment', 'Apartment', 'House', 'House']\n",
      "['Apartment', 'Apartment', 'Apartment', 'House', 'House']\n",
      "['Apartment', 'Apartment', 'Apartment', 'House', 'House']\n",
      "[0.2, 0.2, 0.2, 0.2, 0.2]\n"
     ]
    }
   ],
   "source": [
    "Accuracy = []\n",
    "\n",
    "for i in range(1,6):\n",
    "  Y_pred = []\n",
    "  for j in range(X_test.shape[0]):\n",
    "    result = KNN(X_train,Y_train,X_test[j],i)\n",
    "    Y_pred.append(result)\n",
    "  print(Y_pred)\n",
    "  Accuracy.append(accuracy(Y_test, Y_pred))\n",
    "  \n",
    "print(Accuracy)"
   ]
  },
  {
   "cell_type": "code",
   "execution_count": 78,
   "id": "ee011219",
   "metadata": {},
   "outputs": [
    {
     "data": {
      "image/png": "[encoded data removed]",
      "text/plain": [
       "<Figure size 432x288 with 1 Axes>"
      ]
     },
     "metadata": {
      "needs_background": "light"
     },
     "output_type": "display_data"
    }
   ],
   "source": [
    "plt.scatter(np.linspace(1,5,5),Accuracy)\n",
    "plt.ylabel(\"Accuracy\")\n",
    "plt.xticks(np.arange(1,6))\n",
    "plt.title(\"Accuracy for k neighbors\")\n",
    "plt.show()"
   ]
  },
  {
   "cell_type": "markdown",
   "id": "75aa491b",
   "metadata": {},
   "source": [
    "There is no difference on the accuracy when then number of neighbors varies. The accuracy is 0.2 no matter which k it takes. But the prediction results are different."
   ]
  }
 ],
 "metadata": {
  "kernelspec": {
   "display_name": "Python 3 (ipykernel)",
   "language": "python",
   "name": "python3"
  },
  "language_info": {
   "codemirror_mode": {
    "name": "ipython",
    "version": 3
   },
   "file_extension": ".py",
   "mimetype": "text/x-python",
   "name": "python",
   "nbconvert_exporter": "python",
   "pygments_lexer": "ipython3",
   "version": "3.9.7"
  }
 },
 "nbformat": 4,
 "nbformat_minor": 5
}
