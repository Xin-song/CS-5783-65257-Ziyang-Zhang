{
 "cells": [
  {
   "cell_type": "code",
   "execution_count": 35,
   "id": "ed648388",
   "metadata": {},
   "outputs": [],
   "source": [
    "import cv2\n",
    "import numpy as np\n",
    "img = cv2.imread('test.png') # read the img file\n",
    "\n",
    "# print(type(img))\n",
    "# print(img)\n",
    "# print(img.shape)\n",
    "\n",
    "# set-ups\n",
    "point1 = np.array((255,0,0))\n",
    "point2 = np.array((0,255,0))\n",
    "point3 = np.array((0,0,255))\n",
    "point_list = [[255,0,0], [0,255,0], [0,0,255]] # for values assignment\n",
    "\n",
    "Matrx_Dis = np.empty([128,128,3]) # A Matrix record the distances to 3 points\n",
    "Matrx_Dis_Min = np.empty([128,128,3]) # A Matrix record the color based on min dis\n",
    "Matrx_Pix_Rem = np.empty([128,128,3]) # A Matrix for color removing from the centor square\n",
    "\n",
    "# A func for calculating the distances to 3 points\n",
    "def calc_dis(point):\n",
    "    point = np.array(point)\n",
    "    return np.array([np.linalg.norm(point - point1),np.linalg.norm(point - point2),np.linalg.norm(point - point3)])\n",
    "\n",
    "for i in range(128):\n",
    "    for j in range(128):\n",
    "        Matrx_Dis[i][j] = calc_dis(img[i][j]) # Calculate dis\n",
    "        Matrx_Dis_Min[i][j] = point_list[np.argmin(Matrx_Dis[i][j])] # based on the index of min dis, give corresponding color to the pixel\n",
    "        if (i<88.5)&(i>38.5)&(j<88.5)&(j>38.5):\n",
    "            Matrx_Pix_Rem[i][j] = [0,0,0] # set [0,0,0] to the pixels in the center. (0+127)/2 ± 25 = 38.5(88.5)\n",
    "        else:\n",
    "            Matrx_Pix_Rem[i][j] = img[i][j] # keep pixels out of the center.\n",
    "# print(Matrx_Dis)\n",
    "# print(Matrx_Dis_Min)\n",
    "cv2.imwrite('output1.png',Matrx_Dis_Min)\n",
    "cv2.imshow('image', Matrx_Dis_Min)\n",
    "\n",
    "cv2.imwrite('output2.png',Matrx_Pix_Rem)\n",
    "cv2.imshow('image', Matrx_Pix_Rem)"
   ]
  },
  {
   "cell_type": "code",
   "execution_count": null,
   "id": "038575c8",
   "metadata": {},
   "outputs": [],
   "source": []
  }
 ],
 "metadata": {
  "kernelspec": {
   "display_name": "Python 3 (ipykernel)",
   "language": "python",
   "name": "python3"
  },
  "language_info": {
   "codemirror_mode": {
    "name": "ipython",
    "version": 3
   },
   "file_extension": ".py",
   "mimetype": "text/x-python",
   "name": "python",
   "nbconvert_exporter": "python",
   "pygments_lexer": "ipython3",
   "version": "3.9.7"
  }
 },
 "nbformat": 4,
 "nbformat_minor": 5
}
