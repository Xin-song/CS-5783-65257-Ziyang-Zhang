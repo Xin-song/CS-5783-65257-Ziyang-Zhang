{
 "cells": [
  {
   "cell_type": "code",
   "execution_count": 4,
   "id": "58939d89",
   "metadata": {},
   "outputs": [
    {
     "name": "stdout",
     "output_type": "stream",
     "text": [
      "The price for a soft taco is: $ 1.75\n",
      "The price for a burrito is: $ 1.5\n"
     ]
    }
   ],
   "source": [
    "import numpy as np\n",
    "\n",
    "\n",
    "num = np.array([[3,4],[4,2]])\n",
    "total_price = np.array([11.25,10])\n",
    "\n",
    "price = np.linalg.solve(num,total_price)\n",
    "print(\"The price for a soft taco is: $\", price[0])\n",
    "print(\"The price for a burrito is: $\", price[1])"
   ]
  }
 ],
 "metadata": {
  "kernelspec": {
   "display_name": "Python 3 (ipykernel)",
   "language": "python",
   "name": "python3"
  },
  "language_info": {
   "codemirror_mode": {
    "name": "ipython",
    "version": 3
   },
   "file_extension": ".py",
   "mimetype": "text/x-python",
   "name": "python",
   "nbconvert_exporter": "python",
   "pygments_lexer": "ipython3",
   "version": "3.9.7"
  }
 },
 "nbformat": 4,
 "nbformat_minor": 5
}
